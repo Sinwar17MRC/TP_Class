{
 "cells": [
  {
   "cell_type": "markdown",
   "metadata": {},
   "source": [
    "# 2. Analyse Exploratoire des Données\n",
    "\n",
    "Ce notebook se concentre sur la deuxième étape du processus d'analyse prédictive : l'analyse exploratoire des données. Nous allons explorer en profondeur les données préparées dans le notebook précédent pour mieux comprendre les relations entre les variables et identifier les facteurs qui influencent le statut de crédit des clients."
   ]
  },
  {
   "cell_type": "markdown",
   "metadata": {},
   "source": [
    "## 2.1 Importation des bibliothèques nécessaires"
   ]
  },
  {
   "cell_type": "code",
   "execution_count": null,
   "metadata": {},
   "outputs": [],
   "source": [
    "# Importation des bibliothèques\n",
    "import pandas as pd\n",
    "import numpy as np\n",
    "import matplotlib.pyplot as plt\n",
    "import seaborn as sns\n",
    "import os\n",
    "from scipy import stats\n",
    "\n",
    "# Configuration pour les visualisations\n",
    "plt.style.use('seaborn-v0_8-whitegrid')\n",
    "plt.rcParams['figure.figsize'] = (12, 8)\n",
    "plt.rcParams['font.size'] = 12\n",
    "\n",
    "# Pour afficher toutes les colonnes\n",
    "pd.set_option('display.max_columns', None)\n",
    "\n",
    "# Pour une meilleure lisibilité des graphiques\n",
    "%matplotlib inline"
   ]
  },
  {
   "cell_type": "markdown",
   "metadata": {},
   "source": [
    "## 2.2 Chargement des données préparées"
   ]
  },
  {
   "cell_type": "code",
   "execution_count": null,
   "metadata": {},
   "outputs": [],
   "source": [
    "# Chemin vers les données préparées\n",
    "data_dir = \"/home/ubuntu/notebooks/data\"\n",
    "data_path = os.path.join(data_dir, \"credit_data_prepared.pkl\")\n",
    "\n",
    "# Vérification de l'existence du fichier\n",
    "if os.path.exists(data_path):\n",
    "    print(f\"Le fichier existe à l'emplacement : {data_path}\")\n",
    "    # Chargement des données\n",
    "    df = pd.read_pickle(data_path)\n",
    "    print(f\"Données chargées avec succès. Dimensions : {df.shape[0]} lignes x {df.shape[1]} colonnes\")\n",
    "else:\n",
    "    print(f\"Erreur : Le fichier n'existe pas à l'emplacement : {data_path}\")\n",
    "    # Si le fichier n'existe pas, on charge les données brutes et on applique les transformations\n",
    "    print(\"Tentative de chargement des données brutes...\")\n",
    "    excel_path = \"/home/ubuntu/upload/ab4e5df7-08a5-4e76-8ddd-9d4f845ecff1.xlsx\"\n",
    "    if os.path.exists(excel_path):\n",
    "        df = pd.read_excel(excel_path)\n",
    "        # Renommage des colonnes\n",
    "        colonnes_renommees = {\n",
    "            \"client's age\": \"age\",\n",
    "            \"marital status\": \"marital_status\",\n",
    "            \"amount of expenses\": \"expenses\",\n",
    "            \"amount of income\": \"income\",\n",
    "            \"amount requested of loan\": \"loan_amount\",\n",
    "            \"price of good\": \"good_price\",\n",
    "            \"credit status\": \"credit_status\"\n",
    "        }\n",
    "        df = df.rename(columns=colonnes_renommees)\n",
    "        # Transformation de la variable cible\n",
    "        df['credit_status'] = df['credit_status'].map({\"Yes\": 0, \"No\": 1})\n",
    "        print(f\"Données brutes chargées et transformées. Dimensions : {df.shape[0]} lignes x {df.shape[1]} colonnes\")\n",
    "    else:\n",
    "        print(f\"Erreur : Le fichier de données brutes n'existe pas non plus à l'emplacement : {excel_path}\")"
   ]
  },
  {
   "cell_type": "markdown",
   "metadata": {},
   "source": [
    "## 2.3 Aperçu des données"
   ]
  },
  {
   "cell_type": "code",
   "execution_count": null,
   "metadata": {},
   "outputs": [],
   "source": [
    "# Affichage des premières lignes\n",
    "print(\"Aperçu des 5 premières lignes :\")\n",
    "df.head()"
   ]
  },
  {
   "cell_type": "code",
   "execution_count": null,
   "metadata": {},
   "outputs": [],
   "source": [
    "# Informations sur les colonnes\n",
    "print(\"Informations sur les colonnes :\")\n",
    "df.info()"
   ]
  },
  {
   "cell_type": "code",
   "execution_count": null,
   "metadata": {},
   "outputs": [],
   "source": [
    "# Statistiques descriptives\n",
    "print(\"Statistiques descriptives :\")\n",
    "df.describe().T  # Transposé pour une meilleure lisibilité"
   ]
  },
  {
   "cell_type": "markdown",
   "metadata": {},
   "source": [
    "## 2.4 Analyse univariée\n",
    "\n",
    "Nous allons analyser chaque variable individuellement pour comprendre sa distribution et ses caractéristiques."
   ]
  },
  {
   "cell_type": "markdown",
   "metadata": {},
   "source": [
    "### 2.4.1 Variable cible : credit_status"
   ]
  },
  {
   "cell_type": "code",
   "execution_count": null,
   "metadata": {},
   "outputs": [],
   "source": [
    "# Distribution de la variable cible\n",
    "plt.figure(figsize=(10, 6))\n",
    "ax = sns.countplot(x='credit_status', data=df)\n",
    "plt.title('Distribution de la variable cible (credit_status)', fontsize=14)\n",
    "plt.xlabel('Statut de crédit (0 = Solvable, 1 = Non solvable)', fontsize=12)\n",
    "plt.ylabel('Nombre de clients', fontsize=12)\n",
    "\n",
    "# Ajout des pourcentages\n",
    "total = len(df)\n",
    "for p in ax.patches:\n",
    "    percentage = f'{100 * p.get_height() / total:.1f}%'\n",
    "    x = p.get_x() + p.get_width() / 2\n",
    "    y = p.get_height()\n",
    "    ax.annotate(percentage, (x, y), ha='center', va='bottom', fontsize=12)\n",
    "\n",
    "plt.show()\n",
    "\n",
    "# Affichage des statistiques\n",
    "print(\"Répartition de la variable cible :\")\n",
    "credit_status_counts = df['credit_status'].value_counts()\n",
    "credit_status_percentages = df['credit_status'].value_counts(normalize=True) * 100\n",
    "credit_status_stats = pd.DataFrame({\n",
    "    'Nombre': credit_status_counts,\n",
    "    'Pourcentage': credit_status_percentages\n",
    "})\n",
    "credit_status_stats.index = ['Solvable (0)', 'Non solvable (1)']\n",
    "credit_status_stats"
   ]
  },
  {
   "cell_type": "markdown",
   "metadata": {},
   "source": [
    "### 2.4.2 Variables numériques"
   ]
  },
  {
   "cell_type": "code",
   "execution_count": null,
   "metadata": {},
   "outputs": [],
   "source": [
    "# Liste des variables numériques\n",
    "variables_numeriques = ['age', 'expenses', 'income', 'loan_amount', 'good_price']\n",
    "\n",
    "# Création d'un tableau de statistiques descriptives détaillées\n",
    "stats_numeriques = df[variables_numeriques].describe().T\n",
    "stats_numeriques['variance'] = df[variables_numeriques].var()\n",
    "stats_numeriques['skewness'] = df[variables_numeriques].skew()\n",
    "stats_numeriques['kurtosis'] = df[variables_numeriques].kurtosis()\n",
    "stats_numeriques"
   ]
  },
  {
   "cell_type": "code",
   "execution_count": null,
   "metadata": {},
   "outputs": [],
   "source": [
    "# Histogrammes pour chaque variable numérique\n",
    "fig, axes = plt.subplots(3, 2, figsize=(18, 15))\n",
    "axes = axes.flatten()\n",
    "\n",
    "for i, var in enumerate(variables_numeriques):\n",
    "    sns.histplot(df[var], kde=True, ax=axes[i])\n",
    "    axes[i].set_title(f'Distribution de {var}', fontsize=14)\n",
    "    axes[i].set_xlabel(var, fontsize=12)\n",
    "    axes[i].set_ylabel('Fréquence', fontsize=12)\n",
    "    \n",
    "    # Ajout des lignes verticales pour la moyenne et la médiane\n",
    "    axes[i].axvline(df[var].mean(), color='red', linestyle='--', label='Moyenne')\n",
    "    axes[i].axvline(df[var].median(), color='green', linestyle='-.', label='Médiane')\n",
    "    axes[i].legend()\n",
    "\n",
    "# Suppression du subplot vide\n",
    "if len(variables_numeriques) < 6:\n",
    "    fig.delaxes(axes[5])\n",
    "\n",
    "plt.tight_layout()\n",
    "plt.show()"
   ]
  },
  {
   "cell_type": "code",
   "execution_count": null,
   "metadata": {},
   "outputs": [],
   "source": [
    "# Boxplots pour chaque variable numérique\n",
    "fig, axes = plt.subplots(3, 2, figsize=(18, 15))\n",
    "axes = axes.flatten()\n",
    "\n",
    "for i, var in enumerate(variables_numeriques):\n",
    "    sns.boxplot(y=df[var], ax=axes[i])\n",
    "    axes[i].set_title(f'Boxplot de {var}', fontsize=14)\n",
    "    axes[i].set_ylabel(var, fontsize=12)\n",
    "\n",
    "# Suppression du subplot vide\n",
    "if len(variables_numeriques) < 6:\n",
    "    fig.delaxes(axes[5])\n",
    "\n",
    "plt.tight_layout()\n",
    "plt.show()"
   ]
  },
  {
   "cell_type": "markdown",
   "metadata": {},
   "source": [
    "### 2.4.3 Variable catégorielle : marital_status"
   ]
  },
  {
   "cell_type": "code",
   "execution_count": null,
   "metadata": {},
   "outputs": [],
   "source": [
    "# Distribution du statut marital\n",
    "plt.figure(figsize=(10, 6))\n",
    "ax = sns.countplot(x='marital_status', data=df)\n",
    "plt.title('Distribution du statut marital', fontsize=14)\n",
    "plt.xlabel('Statut marital', fontsize=12)\n",
    "plt.ylabel('Nombre de clients', fontsize=12)\n",
    "\n",
    "# Ajout des pourcentages\n",
    "total = len(df)\n",
    "for p in ax.patches:\n",
    "    percentage = f'{100 * p.get_height() / total:.1f}%'\n",
    "    x = p.get_x() + p.get_width() / 2\n",
    "    y = p.get_height()\n",
    "    ax.annotate(percentage, (x, y), ha='center', va='bottom', fontsize=12)\n",
    "\n",
    "plt.show()\n",
    "\n",
    "# Affichage des statistiques\n",
    "print(\"Répartition du statut marital :\")\n",
    "marital_status_counts = df['marital_status'].value_counts().sort_index()\n",
    "marital_status_percentages = df['marital_status'].value_counts(normalize=True).sort_index() * 100\n",
    "marital_status_stats = pd.DataFrame({\n",
    "    'Nombre': marital_status_counts,\n",
    "    'Pourcentage': marital_status_percentages\n",
    "})\n",
    "marital_status_stats"
   ]
  },
  {
   "cell_type": "markdown",
   "metadata": {},
   "source": [
    "## 2.5 Analyse bivariée\n",
    "\n",
    "Nous allons maintenant explorer les relations entre la variable cible (credit_status) et chaque variable explicative."
   ]
  },
  {
   "cell_type": "markdown",
   "metadata": {},
   "source": [
    "### 2.5.1 Relation entre les variables numériques et la variable cible"
   ]
  },
  {
   "cell_type": "code",
   "execution_count": null,
   "metadata": {},
   "outputs": [],
   "source": [
    "# Boxplots des variables numériques par statut de crédit\n",
    "fig, axes = plt.subplots(3, 2, figsize=(18, 15))\n",
    "axes = axes.flatten()\n",
    "\n",
    "for i, var in enumerate(variables_numeriques):\n",
    "    sns.boxplot(x='credit_status', y=var, data=df, ax=axes[i])\n",
    "    axes[i].set_title(f'{var} par statut de crédit', fontsize=14)\n",
    "    axes[i].set_xlabel('Statut de crédit (0 = Solvable, 1 = Non solvable)', fontsize=12)\n",
    "    axes[i].set_ylabel(var, fontsize=12)\n",
    "\n",
    "# Suppression du subplot vide\n",
    "if len(variables_numeriques) < 6:\n",
    "    fig.delaxes(axes[5])\n",
    "\n",
    "plt.tight_layout()\n",
    "plt.show()"
   ]
  },
  {
   "cell_type": "code",
   "execution_count": null,
   "metadata": {},
   "outputs": [],
   "source": [
    "# Statistiques descriptives par groupe\n",
    "print(\"Statistiques descriptives par statut de crédit :\")\n",
    "grouped_stats = df.groupby('credit_status')[variables_numeriques].agg(['mean', 'median', 'std'])\n",
    "grouped_stats"
   ]
  },
  {
   "cell_type": "code",
   "execution_count": null,
   "metadata": {},
   "outputs": [],
   "source": [
    "# Tests statistiques pour comparer les moyennes entre les groupes\n",
    "print(\"Tests statistiques pour comparer les moyennes entre les groupes :\")\n",
    "test_results = {}\n",
    "\n",
    "for var in variables_numeriques:\n",
    "    # Extraction des données pour chaque groupe\n",
    "    group0 = df[df['credit_status'] == 0][var]\n",
    "    group1 = df[df['credit_status'] == 1][var]\n",
    "    \n",
    "    # Test de normalité (Shapiro-Wilk)\n",
    "    _, p_norm_0 = stats.shapiro(group0.sample(min(5000, len(group0))))\n",
    "    _, p_norm_1 = stats.shapiro(group1.sample(min(5000, len(group1))))\n",
    "    normal_dist = (p_norm_0 > 0.05) and (p_norm_1 > 0.05)\n",
    "    \n",
    "    # Test d'égalité des variances (Levene)\n",
    "    _, p_var = stats.levene(group0, group1)\n",
    "    equal_var = p_var > 0.05\n",
    "    \n",
    "    # Test de comparaison des moyennes\n",
    "    if normal_dist:\n",
    "        # Test t de Student si distribution normale\n",
    "        t_stat, p_value = stats.ttest_ind(group0, group1, equal_var=equal_var)\n",
    "        test_name = \"t-test\"\n",
    "    else:\n",
    "        # Test de Mann-Whitney si distribution non normale\n",
    "        t_stat, p_value = stats.mannwhitneyu(group0, group1)\n",
    "        test_name = \"Mann-Whitney U\"\n",
    "    \n",
    "    # Stockage des résultats\n",
    "    test_results[var] = {\n",
    "        'Test': test_name,\n",
    "        'Statistique': t_stat,\n",
    "        'p-value': p_value,\n",
    "        'Significatif': p_value < 0.05\n",
    "    }\n",
    "\n",
    "# Affichage des résultats\n",
    "pd.DataFrame(test_results).T"
   ]
  },
  {
   "cell_type": "code",
   "execution_count": null,
   "metadata": {},
   "outputs": [],
   "source": [
    "# Visualisation des distributions par groupe avec KDE\n",
    "fig, axes = plt.subplots(3, 2, figsize=(18, 15))\n",
    "axes = axes.flatten()\n",
    "\n",
    "for i, var in enumerate(variables_numeriques):\n",
    "    sns.kdeplot(data=df, x=var, hue='credit_status', common_norm=False, ax=axes[i])\n",
    "    axes[i].set_title(f'Distribution de {var} par statut de crédit', fontsize=14)\n",
    "    axes[i].set_xlabel(var, fontsize=12)\n",
    "    axes[i].set_ylabel('Densité', fontsize=12)\n",
    "    axes[i].legend(['Solvable (0)', 'Non solvable (1)'])\n",
    "\n",
    "# Suppression du subplot vide\n",
    "if len(variables_numeriques) < 6:\n",
    "    fig.delaxes(axes[5])\n",
    "\n",
    "plt.tight_layout()\n",
    "plt.show()"
   ]
  },
  {
   "cell_type": "markdown",
   "metadata": {},
   "source": [
    "### 2.5.2 Relation entre le statut marital et la variable cible"
   ]
  },
  {
   "cell_type": "code",
   "execution_count": null,
   "metadata": {},
   "outputs": [],
   "source": [
    "# Tableau croisé entre le statut marital et le statut de crédit\n",
    "crosstab = pd.crosstab(df['marital_status'], df['credit_status'])\n",
    "crosstab.columns = ['Solvable (0)', 'Non solvable (1)']\n",
    "crosstab['Total'] = crosstab.sum(axis=1)\n",
    "crosstab.loc['Total'] = crosstab.sum()\n",
    "print(\"Tableau croisé entre le statut marital et le statut de crédit :\")\n",
    "crosstab"
   ]
  },
  {
   "cell_type": "code",
   "execution_count": null,
   "metadata": {},
   "outputs": [],
   "source": [
    "# Tableau croisé avec pourcentages par ligne\n",
    "crosstab_pct = pd.crosstab(df['marital_status'], df['credit_status'], normalize='index') * 100\n",
    "crosstab_pct.columns = ['Solvable (0)', 'Non solvable (1)']\n",
    "print(\"Tableau croisé avec pourcentages par ligne :\")\n",
    "crosstab_pct"
   ]
  },
  {
   "cell_type": "code",
   "execution_count": null,
   "metadata": {},
   "outputs": [],
   "source": [
    "# Visualisation du tableau croisé\n",
    "plt.figure(figsize=(12, 8))\n",
    "sns.countplot(x='marital_status', hue='credit_status', data=df)\n",
    "plt.title('Statut de crédit par statut marital', fontsize=14)\n",
    "plt.xlabel('Statut marital', fontsize=12)\n",
    "plt.ylabel('Nombre de clients', fontsize=12)\n",
    "plt.legend(['Solvable (0)', 'Non solvable (1)'])\n",
    "plt.show()"
   ]
  },
  {
   "cell_type": "code",
   "execution_count": null,
   "metadata": {},
   "outputs": [],
   "source": [
    "# Visualisation des pourcentages par statut marital\n",
    "plt.figure(figsize=(12, 8))\n",
    "crosstab_pct.plot(kind='bar', stacked=True)\n",
    "plt.title('Pourcentage de clients par statut de crédit et statut marital', fontsize=14)\n",
    "plt.xlabel('Statut marital', fontsize=12)\n",
    "plt.ylabel('Pourcentage', fontsize=12)\n",
    "plt.legend(['Solvable (0)', 'Non solvable (1)'])\n",
    "plt.xticks(rotation=0)\n",
    "plt.show()"
   ]
  },
  {
   "cell_type": "code",
   "execution_count": null,
   "metadata": {},
   "outputs": [],
   "source": [
    "# Test du chi-carré pour évaluer l'indépendance entre le statut marital et le statut de crédit\n",
    "contingency_table = pd.crosstab(df['marital_status'], df['credit_status'])\n",
    "chi2, p, dof, expected = stats.chi2_contingency(contingency_table)\n",
    "\n",
    "print(f\"Test du chi-carré :\")\n",
    "print(f\"Statistique du chi-carré : {chi2:.4f}\")\n",
    "print(f\"Degrés de liberté : {dof}\")\n",
    "print(f\"p-value : {p:.4f}\")\n",
    "print(f\"Significatif (p < 0.05) : {p < 0.05}\")"
   ]
  },
  {
   "cell_type": "markdown",
   "metadata": {},
   "source": [
    "## 2.6 Analyse multivariée\n",
    "\n",
    "Nous allons maintenant explorer les relations entre plusieurs variables simultanément."
   ]
  },
  {
   "cell_type": "markdown",
   "metadata": {},
   "source": [
    "### 2.6.1 Matrice de corrélation"
   ]
  },
  {
   "cell_type": "code",
   "execution_count": null,
   "metadata": {},
   "outputs": [],
   "source": [
    "# Calcul de la matrice de corrélation\n",
    "correlation_matrix = df.corr()\n",
    "\n",
    "# Visualisation de la matrice de corrélation\n",
    "plt.figure(figsize=(12, 10))\n",
    "sns.heatmap(correlation_matrix, annot=True, cmap='coolwarm', fmt='.2f', linewidths=0.5)\n",
    "plt.title('Matrice de corrélation', fontsize=14)\n",
    "plt.show()"
   ]
  },
  {
   "cell_type": "code",
   "execution_count": null,
   "metadata": {},
   "outputs": [],
   "source": [
    "# Corrélations avec la variable cible\n",
    "target_correlations = correlation_matrix['credit_status'].sort_values(ascending=False)\n",
    "print(\"Corrélations avec la variable cible (credit_status) :\")\n",
    "target_correlations"
   ]
  },
  {
   "cell_type": "markdown",
   "metadata": {},
   "source": [
    "### 2.6.2 Pairplot pour visualiser les relations entre variables"
   ]
  },
  {
   "cell_type": "code",
   "execution_count": null,
   "metadata": {},
   "outputs": [],
   "source": [
    "# Création d'un sous-ensemble de données pour le pairplot (pour réduire le temps de calcul)\n",
    "subset_cols = ['age', 'income', 'loan_amount', 'credit_status']\n",
    "df_subset = df[subset_cols]\n",
    "\n",
    "# Pairplot\n",
    "plt.figure(figsize=(15, 12))\n",
    "sns.pairplot(df_subset, hue='credit_status', palette=['blue', 'red'])\n",
    "plt.suptitle('Pairplot des variables principales', y=1.02, fontsize=16)\n",
    "plt.show()"
   ]
  },
  {
   "cell_type": "markdown",
   "metadata": {},
   "source": [
    "### 2.6.3 Visualisations avancées"
   ]
  },
  {
   "cell_type": "code",
   "execution_count": null,
   "metadata": {},
   "outputs": [],
   "source": [
    "# Scatter plot avec deux variables numériques et la variable cible comme couleur\n",
    "plt.figure(figsize=(12, 8))\n",
    "sns.scatterplot(x='income', y='loan_amount', hue='credit_status', data=df, palette=['blue', 'red'], alpha=0.7)\n",
    "plt.title('Relation entre revenu, montant du prêt et statut de crédit', fontsize=14)\n",
    "plt.xlabel('Revenu', fontsize=12)\n",
    "plt.ylabel('Montant du prêt', fontsize=12)\n",
    "plt.legend(['Solvable (0)', 'Non solvable (1)'])\n",
    "plt.show()"
   ]
  },
  {
   "cell_type": "code",
   "execution_count": null,
   "metadata": {},
   "outputs": [],
   "source": [
    "# Scatter plot avec deux autres variables numériques\n",
    "plt.figure(figsize=(12, 8))\n",
    "sns.scatterplot(x='age', y='good_price', hue='credit_status', data=df, palette=['blue', 'red'], alpha=0.7)\n",
    "plt.title('Relation entre âge, prix du bien et statut de crédit', fontsize=14)\n",
    "plt.xlabel('Âge', fontsize=12)\n",
    "plt.ylabel('Prix du bien', fontsize=12)\n",
    "plt.legend(['Solvable (0)', 'Non solvable (1)'])\n",
    "plt.show()"
   ]
  },
  {
   "cell_type": "code",
   "execution_count": null,
   "metadata": {},
   "outputs": [],
   "source": [
    "# Création d'un ratio loan_to_income (montant du prêt / revenu)\n",
    "df['loan_to_income'] = df['loan_amount'] / df['income']\n",
    "\n",
    "# Boxplot du ratio loan_to_income par statut de crédit\n",
    "plt.figure(figsize=(10, 6))\n",
    "sns.boxplot(x='credit_status', y='loan_to_income', data=df)\n",
    "plt.title('Ratio prêt/revenu par statut de crédit', fontsize=14)\n",
    "plt.xlabel('Statut de crédit (0 = Solvable, 1 = Non solvable)', fontsize=12)\n",
    "plt.ylabel('Ratio prêt/revenu', fontsize=12)\n",
    "plt.show()\n",
    "\n",
    "# Statistiques descriptives du ratio par groupe\n",
    "print(\"Statistiques descriptives du ratio prêt/revenu par statut de crédit :\")\n",
    "df.groupby('credit_status')['loan_to_income'].describe()"
   ]
  },
  {
   "cell_type": "code",
   "execution_count": null,
   "metadata": {},
   "outputs": [],
   "source": [
    "# Création d'un ratio good_price_to_loan (prix du bien / montant du prêt)\n",
    "df['good_price_to_loan'] = df['good_price'] / df['loan_amount']\n",
    "\n",
    "# Boxplot du ratio good_price_to_loan par statut de crédit\n",
    "plt.figure(figsize=(10, 6))\n",
    "sns.boxplot(x='credit_status', y='good_price_to_loan', data=df)\n",
    "plt.title('Ratio prix du bien/prêt par statut de crédit', fontsize=14)\n",
    "plt.xlabel('Statut de crédit (0 = Solvable, 1 = Non solvable)', fontsize=12)\n",
    "plt.ylabel('Ratio prix du bien/prêt', fontsize=12)\n",
    "plt.show()\n",
    "\n",
    "# Statistiques descriptives du ratio par groupe\n",
    "print(\"Statistiques descriptives du ratio prix du bien/prêt par statut de crédit :\")\n",
    "df.groupby('credit_status')['good_price_to_loan'].describe()"
   ]
  },
  {
   "cell_type": "markdown",
   "metadata": {},
   "source": [
    "## 2.7 Résumé de l'analyse exploratoire\n",
    "\n",
    "Dans ce notebook, nous avons réalisé une analyse exploratoire approfondie des données pour mieux comprendre les relations entre les variables et identifier les facteurs qui influencent le statut de crédit des clients. Voici les principales observations :"
   ]
  },
  {
   "cell_type": "markdown",
   "metadata": {},
   "source": [
    "### 2.7.1 Analyse univariée\n",
    "\n",
    "1. **Variable cible (credit_status)** :\n",
    "   - La majorité des clients sont solvables (environ 80%).\n",
    "   - Les clients non solvables représentent environ 20% de l'échantillon.\n",
    "\n",
    "2. **Variables numériques** :\n",
    "   - **Âge** : La moyenne d'âge est d'environ 38 ans, avec une distribution relativement normale.\n",
    "   - **Dépenses** : La moyenne des dépenses est d'environ 60, avec une légère asymétrie positive.\n",
    "   - **Revenus** : La moyenne des revenus est d'environ 150, avec une distribution relativement normale.\n",
    "   - **Montant du prêt** : La moyenne est d'environ 1035, avec une asymétrie positive.\n",
    "   - **Prix du bien** : La moyenne est d'environ 1440, avec une asymétrie positive et quelques valeurs extrêmes.\n",
    "\n",
    "3. **Variable catégorielle (marital_status)** :\n",
    "   - La majorité des clients ont un statut marital de 2 (environ 70%).\n",
    "   - Les statuts 1 et 3 sont également bien représentés.\n",
    "   - Les statuts 4 et 5 sont très peu représentés."
   ]
  },
  {
   "cell_type": "markdown",
   "metadata": {},
   "source": [
    "### 2.7.2 Analyse bivariée\n",
    "\n",
    "1. **Variables numériques et statut de crédit** :\n",
    "   - **Âge** : Les clients non solvables ont tendance à être plus jeunes que les clients solvables.\n",
    "   - **Revenus** : Les clients non solvables ont des revenus significativement plus faibles.\n",
    "   - **Montant du prêt** : Les clients non solvables demandent des prêts significativement plus élevés.\n",
    "   - **Prix du bien** : Les clients non solvables achètent des biens significativement plus chers.\n",
    "\n",
    "2. **Statut marital et statut de crédit** :\n",
    "   - Il existe une relation significative entre le statut marital et le statut de crédit (test du chi-carré).\n",
    "   - Les clients avec un statut marital de 1 ont un taux de non-solvabilité plus élevé."
   ]
  },
  {
   "cell_type": "markdown",
   "metadata": {},
   "source": [
    "### 2.7.3 Analyse multivariée\n",
    "\n",
    "1. **Corrélations** :\n",
    "   - Le montant du prêt est positivement corrélé avec le statut de non-solvabilité.\n",
    "   - Le revenu est négativement corrélé avec le statut de non-solvabilité.\n",
    "   - L'âge est négativement corrélé avec le statut de non-solvabilité.\n",
    "   - Il existe une forte corrélation positive entre le montant du prêt et le prix du bien.\n",
    "\n",
    "2. **Ratios** :\n",
    "   - Le ratio prêt/revenu est significativement plus élevé chez les clients non solvables.\n",
    "   - Le ratio prix du bien/prêt est plus faible chez les clients non solvables, suggérant qu'ils demandent des prêts plus élevés par rapport au prix du bien."
   ]
  },
  {
   "cell_type": "markdown",
   "metadata": {},
   "source": [
    "### 2.7.4 Conclusions et implications pour la modélisation\n",
    "\n",
    "1. **Variables importantes** :\n",
    "   - Le montant du prêt, le revenu et l'âge semblent être les variables les plus importantes pour prédire le statut de crédit.\n",
    "   - Le ratio prêt/revenu pourrait être un prédicteur particulièrement utile.\n",
    "\n",
    "2. **Déséquilibre des classes** :\n",
    "   - La variable cible est déséquilibrée (80% solvables, 20% non solvables), ce qui devra être pris en compte lors de la modélisation.\n",
    "\n",
    "3. **Ingénierie des caractéristiques** :\n",
    "   - La création de ratios (prêt/revenu, prix du bien/prêt) pourrait améliorer les performances des modèles.\n",
    "\n",
    "4. **Standardisation** :\n",
    "   - Les variables numériques ont des échelles différentes, donc une standardisation sera nécessaire avant la modélisation."
   ]
  },
  {
   "cell_type": "markdown",
   "metadata": {},
   "source": [
    "## Prochaine étape\n",
    "\n",
    "Dans le prochain notebook, nous préparerons les données pour la modélisation en séparant les données en ensembles d'entraînement et de test, et en standardisant les variables numériques."
   ]
  }
 ],
 "metadata": {
  "kernelspec": {
   "display_name": "Python 3",
   "language": "python",
   "name": "python3"
  },
  "language_info": {
   "codemirror_mode": {
    "name": "ipython",
    "version": 3
   },
   "file_extension": ".py",
   "mimetype": "text/x-python",
   "name": "python",
   "nbconvert_exporter": "python",
   "pygments_lexer": "ipython3",
   "version": "3.10.12"
  }
 },
 "nbformat": 4,
 "nbformat_minor": 4
}
