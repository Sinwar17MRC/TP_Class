{
 "cells": [
  {
   "cell_type": "markdown",
   "metadata": {},
   "source": [
    "# 1. Préparation des Données\n",
    "\n",
    "Ce notebook se concentre sur la première étape du processus d'analyse prédictive : la préparation des données. Nous allons charger le fichier Excel, renommer les colonnes pour plus de clarté, transformer la variable cible, vérifier et traiter les valeurs manquantes, puis sauvegarder les données préparées pour les étapes suivantes."
   ]
  },
  {
   "cell_type": "markdown",
   "metadata": {},
   "source": [
    "## 1.1 Importation des bibliothèques nécessaires"
   ]
  },
  {
   "cell_type": "code",
   "execution_count": null,
   "metadata": {},
   "outputs": [],
   "source": [
    "# Importation des bibliothèques\n",
    "import pandas as pd\n",
    "import numpy as np\n",
    "import matplotlib.pyplot as plt\n",
    "import seaborn as sns\n",
    "import os\n",
    "\n",
    "# Configuration pour les visualisations\n",
    "plt.style.use('seaborn-v0_8-whitegrid')\n",
    "plt.rcParams['figure.figsize'] = (12, 8)\n",
    "plt.rcParams['font.size'] = 12\n",
    "\n",
    "# Pour afficher toutes les colonnes\n",
    "pd.set_option('display.max_columns', None)\n",
    "\n",
    "# Pour une meilleure lisibilité des graphiques\n",
    "%matplotlib inline"
   ]
  },
  {
   "cell_type": "markdown",
   "metadata": {},
   "source": [
    "## 1.2 Chargement du fichier Excel"
   ]
  },
  {
   "cell_type": "code",
   "execution_count": null,
   "metadata": {},
   "outputs": [],
   "source": [
    "# Chemin vers le fichier Excel\n",
    "excel_path = \"/home/ubuntu/upload/ab4e5df7-08a5-4e76-8ddd-9d4f845ecff1.xlsx\"\n",
    "\n",
    "# Vérification de l'existence du fichier\n",
    "if os.path.exists(excel_path):\n",
    "    print(f\"Le fichier existe à l'emplacement : {excel_path}\")\n",
    "else:\n",
    "    print(f\"Erreur : Le fichier n'existe pas à l'emplacement : {excel_path}\")"
   ]
  },
  {
   "cell_type": "code",
   "execution_count": null,
   "metadata": {},
   "outputs": [],
   "source": [
    "# Chargement du fichier Excel\n",
    "try:\n",
    "    df = pd.read_excel(excel_path)\n",
    "    print(f\"Le fichier Excel a été chargé avec succès.\")\n",
    "    print(f\"Dimensions du dataset : {df.shape[0]} lignes x {df.shape[1]} colonnes\")\n",
    "except Exception as e:\n",
    "    print(f\"Erreur lors du chargement du fichier Excel : {e}\")"
   ]
  },
  {
   "cell_type": "markdown",
   "metadata": {},
   "source": [
    "## 1.3 Exploration initiale des données"
   ]
  },
  {
   "cell_type": "code",
   "execution_count": null,
   "metadata": {},
   "outputs": [],
   "source": [
    "# Affichage des premières lignes du dataset\n",
    "print(\"Aperçu des 5 premières lignes :\")\n",
    "df.head()"
   ]
  },
  {
   "cell_type": "code",
   "execution_count": null,
   "metadata": {},
   "outputs": [],
   "source": [
    "# Informations sur les colonnes\n",
    "print(\"Informations sur les colonnes :\")\n",
    "df.info()"
   ]
  },
  {
   "cell_type": "code",
   "execution_count": null,
   "metadata": {},
   "outputs": [],
   "source": [
    "# Statistiques descriptives\n",
    "print(\"Statistiques descriptives :\")\n",
    "df.describe()"
   ]
  },
  {
   "cell_type": "code",
   "execution_count": null,
   "metadata": {},
   "outputs": [],
   "source": [
    "# Vérification des valeurs manquantes\n",
    "print(\"Vérification des valeurs manquantes :\")\n",
    "df.isnull().sum()"
   ]
  },
  {
   "cell_type": "markdown",
   "metadata": {},
   "source": [
    "## 1.4 Renommage des colonnes pour plus de clarté\n",
    "\n",
    "Pour faciliter la manipulation des données, nous allons renommer les colonnes avec des noms plus courts et sans espaces."
   ]
  },
  {
   "cell_type": "code",
   "execution_count": null,
   "metadata": {},
   "outputs": [],
   "source": [
    "# Dictionnaire de renommage des colonnes\n",
    "colonnes_renommees = {\n",
    "    \"client's age\": \"age\",\n",
    "    \"marital status\": \"marital_status\",\n",
    "    \"amount of expenses\": \"expenses\",\n",
    "    \"amount of income\": \"income\",\n",
    "    \"amount requested of loan\": \"loan_amount\",\n",
    "    \"price of good\": \"good_price\",\n",
    "    \"credit status\": \"credit_status\"\n",
    "}\n",
    "\n",
    "# Renommage des colonnes\n",
    "df = df.rename(columns=colonnes_renommees)\n",
    "\n",
    "# Vérification du renommage\n",
    "print(\"Colonnes après renommage :\")\n",
    "print(df.columns.tolist())\n",
    "\n",
    "# Affichage des premières lignes après renommage\n",
    "df.head()"
   ]
  },
  {
   "cell_type": "markdown",
   "metadata": {},
   "source": [
    "## 1.5 Transformation de la variable cible\n",
    "\n",
    "La variable cible `credit_status` est actuellement sous forme de texte (\"Yes\" ou \"No\"). Pour faciliter la modélisation, nous allons la transformer en variable binaire (0 ou 1) :\n",
    "- \"Yes\" (solvable) → 0\n",
    "- \"No\" (non solvable) → 1\n",
    "\n",
    "Cette convention est choisie pour que la classe positive (1) représente les clients non solvables, ce qui est généralement la classe d'intérêt dans les problèmes de crédit."
   ]
  },
  {
   "cell_type": "code",
   "execution_count": null,
   "metadata": {},
   "outputs": [],
   "source": [
    "# Vérification des valeurs uniques de la variable cible\n",
    "print(\"Valeurs uniques de credit_status avant transformation :\")\n",
    "print(df['credit_status'].value_counts())\n",
    "\n",
    "# Transformation de la variable cible\n",
    "df['credit_status'] = df['credit_status'].map({\"Yes\": 0, \"No\": 1})\n",
    "\n",
    "# Vérification après transformation\n",
    "print(\"\\nValeurs uniques de credit_status après transformation :\")\n",
    "print(df['credit_status'].value_counts())\n",
    "print(\"\\n0 = Solvable (Yes), 1 = Non solvable (No)\")"
   ]
  },
  {
   "cell_type": "markdown",
   "metadata": {},
   "source": [
    "## 1.6 Vérification de la distribution des variables\n",
    "\n",
    "Avant de finaliser la préparation des données, vérifions rapidement la distribution de chaque variable pour détecter d'éventuelles anomalies."
   ]
  },
  {
   "cell_type": "code",
   "execution_count": null,
   "metadata": {},
   "outputs": [],
   "source": [
    "# Distribution de la variable cible\n",
    "plt.figure(figsize=(10, 6))\n",
    "ax = sns.countplot(x='credit_status', data=df)\n",
    "plt.title('Distribution de la variable cible (credit_status)')\n",
    "plt.xlabel('Statut de crédit (0 = Solvable, 1 = Non solvable)')\n",
    "plt.ylabel('Nombre de clients')\n",
    "\n",
    "# Ajout des pourcentages\n",
    "total = len(df)\n",
    "for p in ax.patches:\n",
    "    percentage = f'{100 * p.get_height() / total:.1f}%'\n",
    "    x = p.get_x() + p.get_width() / 2\n",
    "    y = p.get_height()\n",
    "    ax.annotate(percentage, (x, y), ha='center', va='bottom')\n",
    "\n",
    "plt.show()"
   ]
  },
  {
   "cell_type": "code",
   "execution_count": null,
   "metadata": {},
   "outputs": [],
   "source": [
    "# Vérification rapide de la distribution des variables numériques\n",
    "fig, axes = plt.subplots(2, 3, figsize=(18, 10))\n",
    "axes = axes.flatten()\n",
    "\n",
    "# Variables numériques à vérifier\n",
    "variables_numeriques = ['age', 'expenses', 'income', 'loan_amount', 'good_price']\n",
    "\n",
    "for i, var in enumerate(variables_numeriques):\n",
    "    sns.histplot(df[var], kde=True, ax=axes[i])\n",
    "    axes[i].set_title(f'Distribution de {var}')\n",
    "    axes[i].set_xlabel(var)\n",
    "    axes[i].set_ylabel('Fréquence')\n",
    "\n",
    "# Distribution du statut marital\n",
    "sns.countplot(x='marital_status', data=df, ax=axes[5])\n",
    "axes[5].set_title('Distribution du statut marital')\n",
    "axes[5].set_xlabel('Statut marital')\n",
    "axes[5].set_ylabel('Nombre de clients')\n",
    "\n",
    "plt.tight_layout()\n",
    "plt.show()"
   ]
  },
  {
   "cell_type": "markdown",
   "metadata": {},
   "source": [
    "## 1.7 Sauvegarde des données préparées\n",
    "\n",
    "Maintenant que nous avons préparé les données, nous allons les sauvegarder pour les utiliser dans les notebooks suivants."
   ]
  },
  {
   "cell_type": "code",
   "execution_count": null,
   "metadata": {},
   "outputs": [],
   "source": [
    "# Création d'un dossier pour les données préparées\n",
    "output_dir = \"/home/ubuntu/notebooks/data\"\n",
    "os.makedirs(output_dir, exist_ok=True)\n",
    "\n",
    "# Sauvegarde au format CSV\n",
    "csv_path = os.path.join(output_dir, \"credit_data_prepared.csv\")\n",
    "df.to_csv(csv_path, index=False)\n",
    "\n",
    "# Sauvegarde au format Excel\n",
    "excel_path = os.path.join(output_dir, \"credit_data_prepared.xlsx\")\n",
    "df.to_excel(excel_path, index=False)\n",
    "\n",
    "# Sauvegarde au format pickle pour préserver les types de données\n",
    "pickle_path = os.path.join(output_dir, \"credit_data_prepared.pkl\")\n",
    "df.to_pickle(pickle_path)\n",
    "\n",
    "print(f\"Données préparées sauvegardées avec succès dans le dossier : {output_dir}\")\n",
    "print(f\"Nombre total d'observations : {df.shape[0]}\")\n",
    "print(f\"Nombre de variables : {df.shape[1]}\")"
   ]
  },
  {
   "cell_type": "markdown",
   "metadata": {},
   "source": [
    "## 1.8 Résumé de la préparation des données\n",
    "\n",
    "Dans ce notebook, nous avons effectué les opérations suivantes :\n",
    "\n",
    "1. **Chargement des données** : Nous avons chargé le fichier Excel contenant les données des clients.\n",
    "2. **Exploration initiale** : Nous avons examiné la structure des données, les statistiques descriptives et vérifié l'absence de valeurs manquantes.\n",
    "3. **Renommage des colonnes** : Nous avons renommé les colonnes pour faciliter la manipulation des données.\n",
    "4. **Transformation de la variable cible** : Nous avons transformé la variable `credit_status` en variable binaire (0 = Solvable, 1 = Non solvable).\n",
    "5. **Vérification des distributions** : Nous avons vérifié la distribution de chaque variable pour détecter d'éventuelles anomalies.\n",
    "6. **Sauvegarde des données préparées** : Nous avons sauvegardé les données préparées dans différents formats pour les utiliser dans les notebooks suivants.\n",
    "\n",
    "Les données sont maintenant prêtes pour l'analyse exploratoire qui sera réalisée dans le prochain notebook."
   ]
  },
  {
   "cell_type": "markdown",
   "metadata": {},
   "source": [
    "## Prochaine étape\n",
    "\n",
    "Dans le prochain notebook, nous réaliserons une analyse exploratoire approfondie des données pour mieux comprendre les relations entre les variables et identifier les facteurs qui influencent le statut de crédit des clients."
   ]
  }
 ],
 "metadata": {
  "kernelspec": {
   "display_name": "Python 3",
   "language": "python",
   "name": "python3"
  },
  "language_info": {
   "codemirror_mode": {
    "name": "ipython",
    "version": 3
   },
   "file_extension": ".py",
   "mimetype": "text/x-python",
   "name": "python",
   "nbconvert_exporter": "python",
   "pygments_lexer": "ipython3",
   "version": "3.10.12"
  }
 },
 "nbformat": 4,
 "nbformat_minor": 4
}
